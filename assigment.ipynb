{
 "cells": [
  {
   "cell_type": "code",
   "execution_count": 1,
   "metadata": {},
   "outputs": [
    {
     "name": "stdout",
     "output_type": "stream",
     "text": [
      "3.0\n"
     ]
    }
   ],
   "source": [
    "#Write a python program to sum of the first n positive integers.\n",
    "\n",
    "num=int(input('please enter a number: '))\n",
    "sum_num=(num*(num+1))/2\n",
    "print(sum_num)"
   ]
  },
  {
   "cell_type": "code",
   "execution_count": 2,
   "metadata": {},
   "outputs": [
    {
     "name": "stdout",
     "output_type": "stream",
     "text": [
      "hello , welcome to the class\n"
     ]
    }
   ],
   "source": [
    "#Write a Python program to count occurrences of a substring in a string\n",
    "hello='hello , welcome to the class'\n",
    "print(hello)"
   ]
  },
  {
   "cell_type": "code",
   "execution_count": 3,
   "metadata": {},
   "outputs": [
    {
     "data": {
      "text/plain": [
       "1"
      ]
     },
     "execution_count": 3,
     "metadata": {},
     "output_type": "execute_result"
    }
   ],
   "source": [
    "hello.count('to')"
   ]
  },
  {
   "cell_type": "code",
   "execution_count": 4,
   "metadata": {},
   "outputs": [
    {
     "name": "stdout",
     "output_type": "stream",
     "text": [
      "hello , welcome to the class\n"
     ]
    },
    {
     "data": {
      "text/plain": [
       "28"
      ]
     },
     "execution_count": 4,
     "metadata": {},
     "output_type": "execute_result"
    }
   ],
   "source": [
    "#Write a Python program to count the occurrences of each word in a given sentence.\n",
    "print(hello)\n",
    "len(hello)"
   ]
  },
  {
   "cell_type": "code",
   "execution_count": 5,
   "metadata": {},
   "outputs": [
    {
     "name": "stdout",
     "output_type": "stream",
     "text": [
      " Mejjar\n",
      " Gaet\n"
     ]
    }
   ],
   "source": [
    "\n",
    "#Write a Python program to get a single string from two given strings, separated by a space and swap the first two characters of each string.\n",
    "\n",
    " \n",
    "str1 = \"Gajjar\" \n",
    "str2 =  \"Meet\" \n",
    "x=str1\n",
    "y=str2\n",
    "x=x.replace('Ga','Me')\n",
    "y=y.replace('Me','Ga')\n",
    "print(\"\",x)\n",
    "print(\"\",y)"
   ]
  },
  {
   "cell_type": "code",
   "execution_count": 6,
   "metadata": {},
   "outputs": [
    {
     "name": "stdout",
     "output_type": "stream",
     "text": [
      "runnly\n"
     ]
    }
   ],
   "source": [
    "#Write a Python program to add 'ing' at the end of a given string (length should be at least 3). If the given string already ends with 'ing' then add 'ly' instead If the string length of the given string is less than 3, leave it unchanged\n",
    "st1= \"running\"\n",
    "\n",
    "if st1.endswith('ing') and len(st1) > 3:\n",
    "    print(st1.replace('ing','ly')) \n",
    "else :\n",
    "    print(st1)\n",
    "       "
   ]
  },
  {
   "cell_type": "code",
   "execution_count": 7,
   "metadata": {},
   "outputs": [
    {
     "name": "stdout",
     "output_type": "stream",
     "text": [
      "the person is good \n"
     ]
    }
   ],
   "source": [
    "#Write a Python program to find the first appearance of the substring 'not' and 'poor' from a given string, if 'not' follows the 'poor', replace the whole 'not'...'poor' substring with 'good'. Return the resulting string \n",
    "x=('the person is not poor ')\n",
    "if x.index('not') < x.index('poor'):\n",
    "    print(x.replace('not poor','good'))\n",
    "else:\n",
    "    x.index('not') > x.index('poor')\n",
    "    print(x.replace('poor','good'))  \n",
    "\n",
    "    \n",
    "\n",
    "    \n",
    "    \n"
   ]
  },
  {
   "cell_type": "code",
   "execution_count": 6,
   "metadata": {},
   "outputs": [
    {
     "name": "stdout",
     "output_type": "stream",
     "text": [
      " The highest common divisor of  20 , 24  is 4\n"
     ]
    }
   ],
   "source": [
    "#Program to find Greatest Common Divisor of two numbers.\n",
    "a = int(input(\"please enter a number only : \"))\n",
    "b = int(input(\"please enter a number only : \"))\n",
    "if a > b:\n",
    "    mn = a\n",
    "else:\n",
    "    mn = b\n",
    "for i  in range(1,mn+1):\n",
    "    if a %  i == 0 and b % i == 0:\n",
    "        gcd=i\n",
    "\n",
    "print(f\" The highest common divisor of  {a} , {b}  is {gcd}\")\n",
    "\n",
    " \n"
   ]
  },
  {
   "cell_type": "code",
   "execution_count": null,
   "metadata": {},
   "outputs": [
    {
     "name": "stdout",
     "output_type": "stream",
     "text": [
      "True\n"
     ]
    }
   ],
   "source": [
    "#Write a Python program to check whether a list contains a sublist\n",
    "sample=[1,2,3,2,6,7,9,4,7]\n",
    "sublist=[2,5,9]\n",
    "if any(i in sublist for i in sample ):\n",
    "        print(True)\n",
    "else:\n",
    "    print(False)    \n",
    "\n",
    "\n"
   ]
  },
  {
   "cell_type": "code",
   "execution_count": null,
   "metadata": {},
   "outputs": [
    {
     "name": "stdout",
     "output_type": "stream",
     "text": [
      "the lowest number is 20\n",
      "the second smallest nmber is: 20\n"
     ]
    }
   ],
   "source": [
    "#Write a Python program to find the second smallest number in a list.\n",
    "\n",
    "value=[20,36,96,74,25,33,52,41]\n",
    "minmal=min(value)\n",
    "print('the lowest number is',minmal)\n",
    "value.remove(minmal)\n",
    "sminal=minmal\n",
    "print('the second smallest nmber is:',sminal)\n"
   ]
  },
  {
   "cell_type": "code",
   "execution_count": null,
   "metadata": {},
   "outputs": [
    {
     "name": "stdout",
     "output_type": "stream",
     "text": [
      "the original list [1, 2, 3, 2, 4, 5, 3, 6, 7, 8, 4, 9, 7]\n",
      "the unique list [1, 2, 3, 4, 5, 6, 7, 8, 9]\n"
     ]
    }
   ],
   "source": [
    "#Write a Python program to get unique values from a list.\n",
    "sample_list = [1, 2, 3, 2, 4, 5, 3, 6, 7, 8, 4, 9, 7]\n",
    "unique_list=[]\n",
    "for i in sample_list:\n",
    "    if i not in unique_list:\n",
    "        unique_list.append(i)\n",
    "print(\"the original list\",  sample_list)\n",
    "print(\"the unique list\",unique_list) "
   ]
  },
  {
   "cell_type": "code",
   "execution_count": null,
   "metadata": {},
   "outputs": [
    {
     "name": "stdout",
     "output_type": "stream",
     "text": [
      "[(3, 2, 7), (4, 1, 9)]\n"
     ]
    }
   ],
   "source": [
    "#Write a Python program to unzip a list of tuples into individual lists\n",
    "l = [(3,4), (2,1), (7,9)]\n",
    "print(list(zip(*l)))\n"
   ]
  },
  {
   "cell_type": "code",
   "execution_count": 28,
   "metadata": {},
   "outputs": [
    {
     "data": {
      "text/plain": [
       "[1, 2, 3, 4, 5, 6, 8, 1, 2, 3, 2, 3, 1, 2]"
      ]
     },
     "execution_count": 28,
     "metadata": {},
     "output_type": "execute_result"
    }
   ],
   "source": [
    "l = [(3,4), (2,1), (7,9)]\n",
    "l=(\"a,b,c\")\n",
    "a"
   ]
  },
  {
   "cell_type": "code",
   "execution_count": null,
   "metadata": {},
   "outputs": [
    {
     "name": "stdout",
     "output_type": "stream",
     "text": [
      "a 1\n",
      "b 2\n",
      "c 3\n"
     ]
    }
   ],
   "source": [
    "#Write a Python program to convert a list of tuples into a dictionary.\n",
    "\n",
    "t=[('a',1),('b',2),('c',3)]\n",
    "for k,v in t:\n",
    "    print(k,v)"
   ]
  },
  {
   "cell_type": "code",
   "execution_count": null,
   "metadata": {},
   "outputs": [
    {
     "name": "stdout",
     "output_type": "stream",
     "text": [
      "['h', 'a', 'b', 'j', 'c', 'd', 'e', 'f']\n"
     ]
    }
   ],
   "source": [
    "#Write a Python program to sort a dictionary (ascending /descending) by value\n",
    "num={\"a\":7,\"b\":6,\"c\":4,\"d\":3,\"e\":2,\"f\":1,\"j\":5,\"h\":9}\n",
    "max=sorted(num,key=num.get,reverse=True)\n",
    "print(max)\n",
    "\n"
   ]
  },
  {
   "cell_type": "code",
   "execution_count": null,
   "metadata": {},
   "outputs": [
    {
     "name": "stdout",
     "output_type": "stream",
     "text": [
      "['f', 'e', 'd', 'c', 'j', 'b', 'a', 'h']\n"
     ]
    }
   ],
   "source": [
    "num={\"a\":7,\"b\":6,\"c\":4,\"d\":3,\"e\":2,\"f\":1,\"j\":5,\"h\":9}\n",
    "max=sorted(num,key=num.get,reverse=False)\n",
    "print(max)\n",
    "\n"
   ]
  },
  {
   "cell_type": "code",
   "execution_count": null,
   "metadata": {},
   "outputs": [
    {
     "name": "stdout",
     "output_type": "stream",
     "text": [
      "h\n",
      "f\n",
      "b\n"
     ]
    }
   ],
   "source": [
    "#Write a Python program to find the highest 3 values in a dictionary.\n",
    "num={\"a\":1,\"b\":6,\"c\":4,\"d\":3,\"e\":2,\"f\":7,\"j\":5,\"h\":9}\n",
    "max=sorted(num,key=num.get,reverse=True)\n",
    "for i in range(3):\n",
    "    print(max[i])\n",
    "\n"
   ]
  },
  {
   "cell_type": "code",
   "execution_count": 19,
   "metadata": {},
   "outputs": [
    {
     "name": "stdout",
     "output_type": "stream",
     "text": [
      "0,1,1,2,3,5,8,"
     ]
    }
   ],
   "source": [
    "#Given a number n, write a python program to make and print the list of up to n.\n",
    "n=int(input('please enter a number '))\n",
    "x=0\n",
    "y=1\n",
    "z=0\n",
    "for i in range(0,n):\n",
    "    print(z,end=',')\n",
    "    x=y\n",
    "    y=z\n",
    "    z=x+y"
   ]
  },
  {
   "cell_type": "code",
   "execution_count": 39,
   "metadata": {},
   "outputs": [
    {
     "name": "stdout",
     "output_type": "stream",
     "text": [
      "{1: 3, 2: 4, 3: 3, 4: 1, 5: 1, 6: 1, 8: 1}\n"
     ]
    }
   ],
   "source": [
    "#Counting the frequencies in a list using a dictionary in Python.\n",
    "a=[1,2,3,4,5,6,8,1,2,3,2,3,1,2]\n",
    "count={}\n",
    "for i in a:\n",
    "    if i in count:\n",
    "     count[i] += 1\n",
    "    else:\n",
    "       count[i] = 1\n",
    "print(count)\n",
    "    "
   ]
  },
  {
   "cell_type": "code",
   "execution_count": 4,
   "metadata": {},
   "outputs": [
    {
     "name": "stdout",
     "output_type": "stream",
     "text": [
      "Sum of odd series:  2.7083333333333335\n",
      "Sum of even series:  2.7166666666666663\n"
     ]
    }
   ],
   "source": [
    "#Write a python program using function to find the sum of odd series and even series\n",
    "\n",
    "import math\n",
    "\n",
    "def series_sum(n):\n",
    "    odd_sum = 0\n",
    "    even_sum = 0\n",
    "\n",
    "    for i in range(1, n+1):\n",
    "        if i % 2 == 1:\n",
    "            odd_sum += i**2 / math.factorial(i)\n",
    "        else:\n",
    "            even_sum += i**2 / math.factorial(i)\n",
    "    return odd_sum, even_sum\n",
    "\n",
    "n = int(input(\"Enter the value of n: \"))\n",
    "print(\"Sum of odd series: \", series_sum(n)[0])\n",
    "print(\"Sum of even series: \", series_sum(n)[1])\n"
   ]
  },
  {
   "cell_type": "code",
   "execution_count": 25,
   "metadata": {},
   "outputs": [
    {
     "name": "stdout",
     "output_type": "stream",
     "text": [
      "120\n"
     ]
    }
   ],
   "source": [
    "#Python Program to Find Factorial of Number Using Recursion\n",
    "def factorial(n):\n",
    "    if n == 0:\n",
    "        return 1\n",
    "    else:\n",
    "        return n * factorial(n-1)\n",
    "\n",
    "print(factorial(5)) \n",
    "\n",
    "\n"
   ]
  },
  {
   "cell_type": "code",
   "execution_count": 1,
   "metadata": {},
   "outputs": [
    {
     "name": "stdout",
     "output_type": "stream",
     "text": [
      "the original list [10, 20, 30, 20, 40, 50, 30, 60, 70, 80, 40, 90, 70]\n",
      "the unique list [10, 20, 30, 40, 50, 60, 70, 80, 90]\n"
     ]
    }
   ],
   "source": [
    "#Write a Python program to get unique values from a list.\n",
    "sample_list = [10, 20, 30, 20, 40, 50, 30, 60, 70, 80, 40, 90, 70]\n",
    "unique_list=[]\n",
    "for i in sample_list:\n",
    "    if i not in unique_list:\n",
    "        unique_list.append(i)\n",
    "print(\"the original list\",  sample_list)\n",
    "print(\"the unique list\",unique_list) \n"
   ]
  },
  {
   "cell_type": "code",
   "execution_count": 1,
   "metadata": {},
   "outputs": [
    {
     "name": "stdout",
     "output_type": "stream",
     "text": [
      "Please provide at least 2 words to generate a strong password.\n"
     ]
    }
   ],
   "source": [
    "import random\n",
    "import string\n",
    "\n",
    "class User:\n",
    "    def __init__(self, user_id, name, password):\n",
    "        self.user_id = user_id\n",
    "        self.name = name\n",
    "        self.password = password\n",
    "\n",
    "def generate_password(user_input):\n",
    "    try:\n",
    "        password = \"\"\n",
    "        words = user_input.split()\n",
    "        if len(words) < 2:\n",
    "            raise ValueError(\"Please provide at least 2 words to generate a strong password.\")\n",
    "        for i in range(2):\n",
    "            password += random.choice(words)\n",
    "        password += str(random.randint(0,9))\n",
    "        password += random.choice(string.punctuation)\n",
    "        password += random.choice(string.ascii_letters).upper()\n",
    "        if len(password) < 8:\n",
    "            raise ValueError(\"Generated password is less than 8 characters. Please provide more input.\")\n",
    "        return password\n",
    "    except ValueError as e:\n",
    "        print(e)\n",
    "\n",
    "user_input = input(\"Enter words to generate a strong password: \")\n",
    "password = generate_password(user_input)\n",
    "if password:\n",
    "    user_id = input(\"Enter user id: \")\n",
    "    name = input(\"Enter name: \")\n",
    "    user = User(user_id, name, password)\n",
    "    print(\"Your password is: \", user.password)\n"
   ]
  },
  {
   "cell_type": "code",
   "execution_count": null,
   "metadata": {},
   "outputs": [],
   "source": []
  }
 ],
 "metadata": {
  "kernelspec": {
   "display_name": "base",
   "language": "python",
   "name": "python3"
  },
  "language_info": {
   "codemirror_mode": {
    "name": "ipython",
    "version": 3
   },
   "file_extension": ".py",
   "mimetype": "text/x-python",
   "name": "python",
   "nbconvert_exporter": "python",
   "pygments_lexer": "ipython3",
   "version": "3.9.13"
  },
  "orig_nbformat": 4,
  "vscode": {
   "interpreter": {
    "hash": "91d32185d1279da2bfade36431f0726b20ce42e48422ec1a8c585da327c0c10a"
   }
  }
 },
 "nbformat": 4,
 "nbformat_minor": 2
}
