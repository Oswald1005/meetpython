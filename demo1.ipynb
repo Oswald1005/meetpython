{
 "cells": [
  {
   "cell_type": "code",
   "execution_count": 11,
   "metadata": {},
   "outputs": [
    {
     "name": "stdout",
     "output_type": "stream",
     "text": [
      "hello\n"
     ]
    }
   ],
   "source": [
    "print('hello')"
   ]
  },
  {
   "cell_type": "code",
   "execution_count": 12,
   "metadata": {},
   "outputs": [
    {
     "name": "stdout",
     "output_type": "stream",
     "text": [
      "hello\n"
     ]
    }
   ],
   "source": [
    "print('hello')"
   ]
  },
  {
   "cell_type": "code",
   "execution_count": 13,
   "metadata": {},
   "outputs": [
    {
     "name": "stdout",
     "output_type": "stream",
     "text": [
      "Please provide at least 2 words to generate a strong password.\n"
     ]
    }
   ],
   "source": [
    "import random\n",
    "import string\n",
    "\n",
    "class User:\n",
    "    def __init__(self, user_id, name, password):\n",
    "        self.user_id = user_id\n",
    "        self.name = name\n",
    "        self.password = password\n",
    "\n",
    "def generate_password(user_input):\n",
    "    try:\n",
    "        password = \"\"\n",
    "        words = user_input.split()\n",
    "        if len(words) < 2:\n",
    "            raise ValueError(\"Please provide at least 2 words to generate a strong password.\")\n",
    "        for i in range(2):\n",
    "            password += random.choice(words)\n",
    "        password += str(random.randint(0,9))\n",
    "        password += random.choice(string.punctuation)\n",
    "        password += random.choice(string.ascii_letters).upper()\n",
    "        if len(password) < 8:\n",
    "            raise ValueError(\"Generated password is less than 8 characters. Please provide more input.\")\n",
    "        return password\n",
    "    except ValueError as e:\n",
    "        print(e)\n",
    "\n",
    "user_input = input(\"Enter words to generate a strong password: \")\n",
    "password = generate_password(user_input)\n",
    "if password:\n",
    "    user_id = input(\"Enter user id: \")\n",
    "    name = input(\"Enter name: \")\n",
    "    user = User(user_id, name, password)\n",
    "    print(\"Your password is: \", user.password)\n"
   ]
  },
  {
   "cell_type": "code",
   "execution_count": 14,
   "metadata": {},
   "outputs": [
    {
     "ename": "NameError",
     "evalue": "name 'x' is not defined",
     "output_type": "error",
     "traceback": [
      "\u001b[1;31m---------------------------------------------------------------------------\u001b[0m",
      "\u001b[1;31mNameError\u001b[0m                                 Traceback (most recent call last)",
      "\u001b[1;32m~\\AppData\\Local\\Temp\\ipykernel_9236\\2361846215.py\u001b[0m in \u001b[0;36m<module>\u001b[1;34m\u001b[0m\n\u001b[0;32m      5\u001b[0m \u001b[1;33m\u001b[0m\u001b[0m\n\u001b[0;32m      6\u001b[0m \u001b[1;33m\u001b[0m\u001b[0m\n\u001b[1;32m----> 7\u001b[1;33m \u001b[0mx\u001b[0m\u001b[1;33m=\u001b[0m\u001b[0mx\u001b[0m\u001b[1;33m.\u001b[0m\u001b[0mreplace\u001b[0m\u001b[1;33m(\u001b[0m\u001b[1;34m'Ga'\u001b[0m\u001b[1;33m,\u001b[0m\u001b[1;34m'Me'\u001b[0m\u001b[1;33m)\u001b[0m\u001b[1;33m\u001b[0m\u001b[1;33m\u001b[0m\u001b[0m\n\u001b[0m\u001b[0;32m      8\u001b[0m \u001b[0my\u001b[0m\u001b[1;33m=\u001b[0m\u001b[0my\u001b[0m\u001b[1;33m.\u001b[0m\u001b[0mreplace\u001b[0m\u001b[1;33m(\u001b[0m\u001b[1;34m'Me'\u001b[0m\u001b[1;33m,\u001b[0m\u001b[1;34m'Ga'\u001b[0m\u001b[1;33m)\u001b[0m\u001b[1;33m\u001b[0m\u001b[1;33m\u001b[0m\u001b[0m\n\u001b[0;32m      9\u001b[0m \u001b[0mx\u001b[0m\u001b[1;33m.\u001b[0m\u001b[0msplit\u001b[0m\u001b[1;33m(\u001b[0m\u001b[1;33m)\u001b[0m\u001b[1;33m\u001b[0m\u001b[1;33m\u001b[0m\u001b[0m\n",
      "\u001b[1;31mNameError\u001b[0m: name 'x' is not defined"
     ]
    }
   ],
   "source": [
    "#Write a Python program to get a single string from two given strings, separated by a space and swap the first two characters of each string.\n",
    "\n",
    "str1 = \"Gajjar\" \n",
    "str2 =  \"Meet\" \n",
    "\n",
    "\n",
    "x=x.replace('Ga','Me')\n",
    "y=y.replace('Me','Ga')\n",
    "x.split()\n",
    "print(\"\",x)\n",
    "print(\"\",y)"
   ]
  },
  {
   "cell_type": "code",
   "execution_count": null,
   "metadata": {},
   "outputs": [
    {
     "name": "stdout",
     "output_type": "stream",
     "text": [
      "The person is good!\n",
      "The person is poor!\n"
     ]
    }
   ],
   "source": [
    "def not_poor(str1):\n",
    "  snot = str1.find('not')\n",
    "  spoor = str1.find('poor')\n",
    "  \n",
    "\n",
    "  if spoor > snot and snot>0 and spoor>0:\n",
    "    str1 = str1.replace(str1[snot:(spoor+4)], 'good')\n",
    "    return str1\n",
    "  else:\n",
    "    return str1\n",
    "print(not_poor('The person is not that poor!'))\n",
    "print(not_poor('The person is poor!'))   "
   ]
  },
  {
   "cell_type": "code",
   "execution_count": null,
   "metadata": {},
   "outputs": [
    {
     "name": "stdout",
     "output_type": "stream",
     "text": [
      "4\n"
     ]
    }
   ],
   "source": [
    "\n",
    "\n",
    "def gcd(a, b):\n",
    "    while b:\n",
    "        a, b = b, a % b\n",
    "    return a    \n",
    "print(gcd(a,b))        "
   ]
  },
  {
   "cell_type": "code",
   "execution_count": null,
   "metadata": {},
   "outputs": [
    {
     "name": "stdout",
     "output_type": "stream",
     "text": [
      "The GCD of 20 and 25 is 5\n"
     ]
    }
   ],
   "source": [
    "def gcd(a, b):\n",
    "    while b:\n",
    "        a, b = b, a % b\n",
    "    return a\n",
    "\n",
    "a = int(input(\"please enter a number only : \"))\n",
    "b = int(input(\"please enter a number only : \"))\n",
    "print(\"The GCD of\", a, \"and\", b, \"is\", gcd(a, b))\n"
   ]
  },
  {
   "cell_type": "code",
   "execution_count": 15,
   "metadata": {},
   "outputs": [
    {
     "name": "stdout",
     "output_type": "stream",
     "text": [
      " The highest common divisor of  24 , 20  is 4\n"
     ]
    }
   ],
   "source": [
    "a = int(input(\"please enter a number only : \"))\n",
    "b = int(input(\"please enter a number only : \"))\n",
    "if a > b:\n",
    "    mn = a\n",
    "else:\n",
    "    mn = b\n",
    "for i  in range(1,mn+1):\n",
    "    if a %  i == 0 and b % i == 0:\n",
    "        gcd=i\n",
    "\n",
    "print(f\" The highest common divisor of  {a} , {b}  is {gcd}\")"
   ]
  },
  {
   "cell_type": "code",
   "execution_count": 16,
   "metadata": {},
   "outputs": [
    {
     "name": "stdout",
     "output_type": "stream",
     "text": [
      "True\n",
      "False\n"
     ]
    }
   ],
   "source": [
    " #Write a Python program to check whether a list contains a sublist\n",
    "def is_Sublist(l, s):\n",
    "\tsub_set = False\n",
    "\tif s == []:\n",
    "\t\tsub_set = True\n",
    "\telif s == l:\n",
    "\t\tsub_set = True\n",
    "\telif len(s) > len(l):\n",
    "\t\tsub_set = False\n",
    "\n",
    "\telse:\n",
    "\t\tfor i in range(len(l)):\n",
    "\t\t\tif l[i] == s[0]:\n",
    "\t\t\t\tn = 1\n",
    "\t\t\t\twhile (n < len(s)) and (l[i+n] == s[n]):\n",
    "\t\t\t\t\tn += 1\n",
    "\t\t\t\t\n",
    "\t\t\t\tif n == len(s):\n",
    "\t\t\t\t\tsub_set = True\n",
    "\n",
    "\treturn sub_set\n",
    "\n",
    "a = [6,7,4,3,2,1]\n",
    "b = [2,1]\n",
    "c = [3,4]\n",
    "print(is_Sublist(a, b))\n",
    "print(is_Sublist(a, c))\n"
   ]
  },
  {
   "cell_type": "code",
   "execution_count": 24,
   "metadata": {},
   "outputs": [
    {
     "name": "stdout",
     "output_type": "stream",
     "text": [
      "[1, 2, 3, 2, 6]\n"
     ]
    }
   ],
   "source": [
    "sample=[1,2,3,2,6,7,9,4,7]\n",
    "sublist=sample[0:5]\n",
    "\n",
    "print(sublist)"
   ]
  },
  {
   "cell_type": "code",
   "execution_count": 25,
   "metadata": {},
   "outputs": [
    {
     "data": {
      "text/plain": [
       "5"
      ]
     },
     "execution_count": 25,
     "metadata": {},
     "output_type": "execute_result"
    }
   ],
   "source": [
    "len(sublist)\n"
   ]
  },
  {
   "cell_type": "code",
   "execution_count": null,
   "metadata": {},
   "outputs": [],
   "source": [
    "def check_sublist(lst, sublst):\n",
    "    for i in range(len(lst) - len(sublst) + 1):\n",
    "        if lst[i:i+len(sublst)] == sublst:\n",
    "            return True\n",
    "    return False\n",
    "\n",
    "lst = [1, 2, 3, 4, 5]\n",
    "sublst = [3, 4]\n",
    "\n",
    "print(check_sublist(lst, sublst)) # True\n"
   ]
  },
  {
   "cell_type": "code",
   "execution_count": 37,
   "metadata": {},
   "outputs": [
    {
     "name": "stdout",
     "output_type": "stream",
     "text": [
      "True\n"
     ]
    }
   ],
   "source": [
    "sample=[1,2,3,2,6,7,9,4,7]\n",
    "sublist=[2,5,9]\n",
    "if any(i in sublist for i in sample ):\n",
    "        print(True)\n",
    "else:\n",
    "    print(False)    \n",
    "\n",
    "\n",
    "\n",
    "          \n",
    "                \n",
    "     "
   ]
  },
  {
   "cell_type": "code",
   "execution_count": 46,
   "metadata": {},
   "outputs": [
    {
     "name": "stdout",
     "output_type": "stream",
     "text": [
      "the lowest number is 20\n",
      "the second smallest nmber is: 20\n"
     ]
    }
   ],
   "source": [
    "\n",
    "\n",
    "value=[20,36,96,74,25,33,52,41]\n",
    "minmal=min(value)\n",
    "print('the lowest number is',minmal)\n",
    "value.remove(minmal)\n",
    "sminal=minmal\n",
    "print('the second smallest nmber is:',sminal)\n"
   ]
  },
  {
   "cell_type": "code",
   "execution_count": 47,
   "metadata": {},
   "outputs": [
    {
     "name": "stdout",
     "output_type": "stream",
     "text": [
      "Original List :  [1, 2, 3, 4, 2, 5, 6, 4]\n",
      "List of unique numbers :  [1, 2, 3, 4, 5, 6]\n"
     ]
    }
   ],
   "source": [
    "#Write a Python program to get unique values from a list.\n",
    "my_list = [1, 2,3 , 4, 2, 5, 6, 4]\n",
    "print(\"Original List : \",my_list)\n",
    "my_set = set(my_list)\n",
    "my_new_list = list(my_set)\n",
    "print(\"List of unique numbers : \",my_new_list)\n",
    "\n"
   ]
  },
  {
   "cell_type": "code",
   "execution_count": null,
   "metadata": {},
   "outputs": [],
   "source": [
    "slist=[10,20,30,20,40,50,10]\n"
   ]
  },
  {
   "cell_type": "code",
   "execution_count": 54,
   "metadata": {},
   "outputs": [
    {
     "name": "stdout",
     "output_type": "stream",
     "text": [
      "lowest number  25\n",
      "second lowest number  33\n"
     ]
    }
   ],
   "source": [
    "\n",
    "value.sort()\n",
    "print('lowest number ',value[0])\n",
    "print('second lowest number ',value[1])"
   ]
  },
  {
   "cell_type": "code",
   "execution_count": 55,
   "metadata": {},
   "outputs": [
    {
     "name": "stdout",
     "output_type": "stream",
     "text": [
      "[1, 2, 3, 4, 5, 6, 7, 8, 9]\n"
     ]
    }
   ],
   "source": [
    "sample_list = [1, 2, 3, 2, 4, 5, 3, 6, 7, 8, 4, 9, 7]\n",
    "unique_list = list(dict.fromkeys(sample_list))\n",
    "print(unique_list) # [1, 2, 3, 4, 5, 6, 7, 8, 9]\n"
   ]
  },
  {
   "cell_type": "code",
   "execution_count": 58,
   "metadata": {},
   "outputs": [
    {
     "name": "stdout",
     "output_type": "stream",
     "text": [
      "[1, 2, 3, 4, 5, 6, 7, 8, 9]\n"
     ]
    }
   ],
   "source": [
    "sample_list = [1, 2, 3, 2, 4, 5, 3, 6, 7, 8, 4, 9, 7]\n",
    "unique_list=[]\n",
    "for i in sample_list:\n",
    "    if i not in unique_list:\n",
    "        unique_list.append(i)\n",
    "print(unique_list)        "
   ]
  },
  {
   "cell_type": "code",
   "execution_count": 67,
   "metadata": {},
   "outputs": [
    {
     "name": "stdout",
     "output_type": "stream",
     "text": [
      "[('d', 99), ('e', 93), ('c', 85)]\n"
     ]
    }
   ],
   "source": [
    "#Write a Python program to find the highest 3 values in a dictionary.\n",
    "my_dict = {'a':23,'b':45,'c':85,'d':99,'e':93,'f':78,'g':12,'h':45,'i':85}\n",
    "\n",
    "top3 = sorted(my_dict.items(), key=lambda x: x[1], reverse=True)[:3]\n",
    "\n",
    "print(top3)\n",
    "\n"
   ]
  },
  {
   "cell_type": "code",
   "execution_count": 1,
   "metadata": {},
   "outputs": [
    {
     "name": "stdout",
     "output_type": "stream",
     "text": [
      "First few Fibonacci numbers are:  [0, 1, 1, 2, 3, 5, 8, 13]\n"
     ]
    }
   ],
   "source": [
    "  #Given a number n, write a python program to make and print the list of   up to n.\n",
    "def fibonacci(n):\n",
    "    fib_list = [0, 1]\n",
    "    if n ==0:\n",
    "        return []\n",
    "    elif n == 1:\n",
    "        return [0]\n",
    "    elif n == 2:\n",
    "        return fib_list\n",
    "    else:\n",
    "        while len(fib_list) < n:\n",
    "            fib_list.append(fib_list[-1] + fib_list[-2])\n",
    "    return fib_list\n",
    "\n",
    "n = 8\n",
    "print(\"First few Fibonacci numbers are: \", fibonacci(n))\n"
   ]
  },
  {
   "cell_type": "code",
   "execution_count": 2,
   "metadata": {},
   "outputs": [
    {
     "name": "stdout",
     "output_type": "stream",
     "text": [
      "0,1,1,2,3,5,"
     ]
    }
   ],
   "source": [
    "#Given a number n, write a python program to make and print the list of up to n.\n",
    "n=int(input('please enter a number '))\n",
    "x=0\n",
    "y=1\n",
    "z=0\n",
    "while z<=n:\n",
    "  print(z,end=\",\")\n",
    "  x=y\n",
    "  y=z\n",
    "  z=x+y"
   ]
  },
  {
   "cell_type": "code",
   "execution_count": null,
   "metadata": {},
   "outputs": [],
   "source": [
    "#Counting the frequencies in a list using a dictionary in Python.\n",
    "def count_frequencies(lst):\n",
    "    frequencies = {}\n",
    "    for item in lst:\n",
    "        if item in frequencies:\n",
    "            frequencies[item] += 1\n",
    "        else:\n",
    "            frequencies[item] = 1\n",
    "    return frequencies\n",
    "\n",
    "lst = [1, 1, 1, 5, 5, 3, 1, 3, 3, 1,4, 4, 4, 2, 2, 2, 2]\n",
    "print(count_frequencies(lst))\n"
   ]
  },
  {
   "cell_type": "code",
   "execution_count": null,
   "metadata": {},
   "outputs": [],
   "source": [
    "n=int(input(\"enter a size of series\"))\n"
   ]
  },
  {
   "cell_type": "code",
   "execution_count": 2,
   "metadata": {},
   "outputs": [
    {
     "name": "stdout",
     "output_type": "stream",
     "text": [
      "0,1,1,2,3,5,8,13,"
     ]
    }
   ],
   "source": [
    "#Given a number n, write a python program to make and print the list of up to n.\n",
    "n=int(input('please enter a number '))#doubt\n",
    "x=0\n",
    "y=1\n",
    "z=0\n",
    "for i in range(0,n+1):\n",
    "    print(z,end=',')\n",
    "    x=y\n",
    "    y=z\n",
    "    z=x+y"
   ]
  },
  {
   "cell_type": "code",
   "execution_count": null,
   "metadata": {},
   "outputs": [],
   "source": [
    "#Given a number n, write a python program to make and print the list of up to n.\n",
    "n=int(input('please enter a number '))#doubt\n",
    "x=0\n",
    "y=1\n",
    "z=0\n",
    "while z<=n:\n",
    "    print(z,end=',')\n",
    "    x=y\n",
    "    y=z\n",
    "    z=x+y"
   ]
  }
 ],
 "metadata": {
  "kernelspec": {
   "display_name": "base",
   "language": "python",
   "name": "python3"
  },
  "language_info": {
   "codemirror_mode": {
    "name": "ipython",
    "version": 3
   },
   "file_extension": ".py",
   "mimetype": "text/x-python",
   "name": "python",
   "nbconvert_exporter": "python",
   "pygments_lexer": "ipython3",
   "version": "3.9.13 (main, Aug 25 2022, 23:51:50) [MSC v.1916 64 bit (AMD64)]"
  },
  "orig_nbformat": 4,
  "vscode": {
   "interpreter": {
    "hash": "91d32185d1279da2bfade36431f0726b20ce42e48422ec1a8c585da327c0c10a"
   }
  }
 },
 "nbformat": 4,
 "nbformat_minor": 2
}
